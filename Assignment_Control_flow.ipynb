{
 "cells": [
  {
   "cell_type": "markdown",
   "metadata": {},
   "source": [
    "                                                              Assignment:Control Flow"
   ]
  },
  {
   "cell_type": "markdown",
   "metadata": {},
   "source": [
    "1. Write a Python program to check if a given number is positive or negative."
   ]
  },
  {
   "cell_type": "code",
   "execution_count": 1,
   "metadata": {},
   "outputs": [],
   "source": [
    "def pos_neg(n):\n",
    "\n",
    "    if n < 0:\n",
    "        print(\"Number is negative\")\n",
    "    elif n > 0:\n",
    "        print(\"number is positive\")\n",
    "    else:\n",
    "        print(\"Number is 0\")\n",
    "\n",
    "    return None"
   ]
  },
  {
   "cell_type": "code",
   "execution_count": 2,
   "metadata": {},
   "outputs": [
    {
     "name": "stdout",
     "output_type": "stream",
     "text": [
      "Number is negative\n"
     ]
    }
   ],
   "source": [
    "n = -10\n",
    "\n",
    "pos_neg(n)"
   ]
  },
  {
   "cell_type": "markdown",
   "metadata": {},
   "source": [
    "2. Create a program that determines if a person is eligible to vote based on their age."
   ]
  },
  {
   "cell_type": "code",
   "execution_count": 4,
   "metadata": {},
   "outputs": [],
   "source": [
    "def vote(age):\n",
    "\n",
    "    if age < 18:\n",
    "        print(\"The person can't vote\")\n",
    "    else:\n",
    "        print(\"The person can vote\")\n",
    "\n",
    "    return None"
   ]
  },
  {
   "cell_type": "code",
   "execution_count": 5,
   "metadata": {},
   "outputs": [
    {
     "name": "stdout",
     "output_type": "stream",
     "text": [
      "The person can vote\n"
     ]
    }
   ],
   "source": [
    "age = 21\n",
    "\n",
    "vote(age)"
   ]
  },
  {
   "cell_type": "markdown",
   "metadata": {},
   "source": [
    "3. Develop a program to find the maximum of two numbers using if-else statements."
   ]
  },
  {
   "cell_type": "code",
   "execution_count": 6,
   "metadata": {},
   "outputs": [],
   "source": [
    "def max(a,b):\n",
    "\n",
    "    if a > b:\n",
    "        print(\"a is greater\")\n",
    "    elif b > a:\n",
    "        print(\"b is greater\")\n",
    "    else:\n",
    "        print(\"a is equal to b\")\n",
    "\n",
    "    return None"
   ]
  },
  {
   "cell_type": "code",
   "execution_count": 7,
   "metadata": {},
   "outputs": [
    {
     "name": "stdout",
     "output_type": "stream",
     "text": [
      "a is greater\n"
     ]
    }
   ],
   "source": [
    "a,b = 20,10\n",
    "\n",
    "max(a,b)"
   ]
  },
  {
   "cell_type": "markdown",
   "metadata": {},
   "source": [
    "4. Write a Python script to classify a given year as a leap year or not."
   ]
  },
  {
   "cell_type": "code",
   "execution_count": 8,
   "metadata": {},
   "outputs": [],
   "source": [
    "def is_leap_year(year):\n",
    "    if (year % 4 == 0 and year % 100 != 0) or (year % 400 == 0):\n",
    "        return True\n",
    "    else:\n",
    "        return False\n",
    "\n"
   ]
  },
  {
   "cell_type": "code",
   "execution_count": 10,
   "metadata": {},
   "outputs": [
    {
     "name": "stdout",
     "output_type": "stream",
     "text": [
      "2024 is a leap year.\n"
     ]
    }
   ],
   "source": [
    "# Input a year from the user\n",
    "year = 2024\n",
    "\n",
    "if is_leap_year(year):\n",
    "    print(f\"{year} is a leap year.\")\n",
    "else:\n",
    "    print(f\"{year} is not a leap year.\")"
   ]
  },
  {
   "cell_type": "markdown",
   "metadata": {},
   "source": [
    "5. Create a program that checks whether a character is a vowel or a consonant."
   ]
  },
  {
   "cell_type": "code",
   "execution_count": 13,
   "metadata": {},
   "outputs": [],
   "source": [
    "def vowcon(char):\n",
    "\n",
    "    if char in ['a','e','i','o','u']:\n",
    "        print(f\"{char} is vowel\")\n",
    "    else:\n",
    "        print(f\"{char} is consonant\")\n",
    "\n",
    "    return None"
   ]
  },
  {
   "cell_type": "code",
   "execution_count": 14,
   "metadata": {},
   "outputs": [
    {
     "name": "stdout",
     "output_type": "stream",
     "text": [
      "a is vowel\n"
     ]
    }
   ],
   "source": [
    "char = 'a'\n",
    "\n",
    "vowcon(char)"
   ]
  },
  {
   "cell_type": "markdown",
   "metadata": {},
   "source": [
    "6. Implement a program to determine whether a given number is even or odd."
   ]
  },
  {
   "cell_type": "code",
   "execution_count": 15,
   "metadata": {},
   "outputs": [],
   "source": [
    "def odd_even(number):\n",
    "\n",
    "    if number % 2==0:\n",
    "        print(f\"{number} is even\")\n",
    "    else:\n",
    "        print(f\"{number} is odd\")\n",
    "\n",
    "    return None"
   ]
  },
  {
   "cell_type": "code",
   "execution_count": 17,
   "metadata": {},
   "outputs": [
    {
     "name": "stdout",
     "output_type": "stream",
     "text": [
      "29 is odd\n"
     ]
    }
   ],
   "source": [
    "number = 29\n",
    "\n",
    "odd_even(number)"
   ]
  },
  {
   "cell_type": "markdown",
   "metadata": {},
   "source": [
    "7. Write a Python function to calculate the absolute value of a number without using the `abs()` function."
   ]
  },
  {
   "cell_type": "code",
   "execution_count": 18,
   "metadata": {},
   "outputs": [],
   "source": [
    "def absolute(number):\n",
    "\n",
    "    if number < 0:\n",
    "        number = -(number)\n",
    "    else:\n",
    "        pass\n",
    "\n",
    "    return number"
   ]
  },
  {
   "cell_type": "code",
   "execution_count": 21,
   "metadata": {},
   "outputs": [
    {
     "data": {
      "text/plain": [
       "5"
      ]
     },
     "execution_count": 21,
     "metadata": {},
     "output_type": "execute_result"
    }
   ],
   "source": [
    "number = -5\n",
    "\n",
    "absolute(number)"
   ]
  },
  {
   "cell_type": "markdown",
   "metadata": {},
   "source": [
    "8. Develop a program that determines the largest of three given numbers using if-else statements."
   ]
  },
  {
   "cell_type": "code",
   "execution_count": 22,
   "metadata": {},
   "outputs": [],
   "source": [
    "def largest(a,b,c):\n",
    "    if (a > b) and (a > c):\n",
    "        print(\"a is largest\")\n",
    "\n",
    "    elif (b > a ) and (b > c):\n",
    "        print(\" b is largest\")\n",
    "    else:\n",
    "        print(\"c is largest\")\n",
    "\n",
    "    return None"
   ]
  },
  {
   "cell_type": "code",
   "execution_count": 23,
   "metadata": {},
   "outputs": [
    {
     "name": "stdout",
     "output_type": "stream",
     "text": [
      "c is largest\n"
     ]
    }
   ],
   "source": [
    "a,b,c = 10, 20, 30\n",
    "\n",
    "largest(a,b,c)"
   ]
  },
  {
   "cell_type": "markdown",
   "metadata": {},
   "source": [
    "9. Create a program that checks if a given string is a palindrome."
   ]
  },
  {
   "cell_type": "code",
   "execution_count": 25,
   "metadata": {},
   "outputs": [],
   "source": [
    "def palindrome(string):\n",
    "    if string == string[::-1]:\n",
    "        print(f\"Yes {string} is palindrome\")\n",
    "    else:\n",
    "        print(f\"{string} is not palindrome\")\n",
    "\n",
    "    return None\n",
    "\n"
   ]
  },
  {
   "cell_type": "code",
   "execution_count": 26,
   "metadata": {},
   "outputs": [
    {
     "name": "stdout",
     "output_type": "stream",
     "text": [
      "Yes abcba is palindrome\n"
     ]
    }
   ],
   "source": [
    "string = 'abcba'\n",
    "\n",
    "palindrome(string)\n"
   ]
  },
  {
   "cell_type": "markdown",
   "metadata": {},
   "source": [
    "10. Write a Python program to calculate the grade based on a student's score."
   ]
  },
  {
   "cell_type": "code",
   "execution_count": 30,
   "metadata": {},
   "outputs": [],
   "source": [
    "def grade(score):\n",
    "\n",
    "    grade = None\n",
    "\n",
    "    if (score < 100) and (score >= 90):\n",
    "        grade = 'A'\n",
    "    elif (score < 90) and (score >= 80):\n",
    "        grade = 'B'\n",
    "    elif (score < 80) and (score >= 70):\n",
    "        grade = 'C'\n",
    "    elif (score < 70) and (score >= 60):\n",
    "        grade = 'D'\n",
    "    elif score < 60:\n",
    "        grade = \"F\"\n",
    "\n",
    "    return grade\n",
    "\n"
   ]
  },
  {
   "cell_type": "code",
   "execution_count": 32,
   "metadata": {},
   "outputs": [
    {
     "data": {
      "text/plain": [
       "'C'"
      ]
     },
     "execution_count": 32,
     "metadata": {},
     "output_type": "execute_result"
    }
   ],
   "source": [
    "score = 72\n",
    "\n",
    "grade(score)"
   ]
  },
  {
   "cell_type": "markdown",
   "metadata": {},
   "source": [
    "## Nested If-Else Statements"
   ]
  },
  {
   "cell_type": "markdown",
   "metadata": {},
   "source": [
    "11. Write a program to find the largest among three numbers using nested if-else statements."
   ]
  },
  {
   "cell_type": "code",
   "execution_count": 33,
   "metadata": {},
   "outputs": [],
   "source": [
    "def largest(a,b,c):\n",
    "\n",
    "    if (a > b):\n",
    "        if (a > c):\n",
    "            print(f\" {a} is greatest\")\n",
    "        else:\n",
    "            print(f\"c is greatest\")\n",
    "    else:\n",
    "        if (b >c):\n",
    "            print(\" b is greatest\")\n",
    "        else:\n",
    "            print(\"c is greatest\")\n",
    "    return None"
   ]
  },
  {
   "cell_type": "code",
   "execution_count": 37,
   "metadata": {},
   "outputs": [
    {
     "name": "stdout",
     "output_type": "stream",
     "text": [
      "c is greatest\n"
     ]
    }
   ],
   "source": [
    "a,b,c = 101,202,303\n",
    "\n",
    "largest(a,b,c)"
   ]
  },
  {
   "cell_type": "markdown",
   "metadata": {},
   "source": [
    "12. Implement a program to determine if a triangle is equilateral, isosceles, or scalene."
   ]
  },
  {
   "cell_type": "code",
   "execution_count": 39,
   "metadata": {},
   "outputs": [],
   "source": [
    "def triangle(a,b,c):\n",
    "\n",
    "    if a == b==c:\n",
    "        print(\"Triangle is Equliateral\")\n",
    "    elif (a==b !=c) or (b==c!=a) or(c==a!=b):\n",
    "        print(\"Triangle is Isosceles\")\n",
    "    else:\n",
    "        print(\"Triangle is Scalene\")\n",
    "\n",
    "    return None"
   ]
  },
  {
   "cell_type": "code",
   "execution_count": 40,
   "metadata": {},
   "outputs": [
    {
     "name": "stdout",
     "output_type": "stream",
     "text": [
      "Triangle is Isosceles\n"
     ]
    }
   ],
   "source": [
    "a , b,c = 40,40,100\n",
    "\n",
    "triangle(a,b,c)"
   ]
  },
  {
   "cell_type": "markdown",
   "metadata": {},
   "source": [
    "13. Develop a program that checks if a year is a leap year and also if it is a century year."
   ]
  },
  {
   "cell_type": "code",
   "execution_count": 42,
   "metadata": {},
   "outputs": [],
   "source": [
    "def leap_century(year):\n",
    "\n",
    "    if year %100 ==0:\n",
    "        print(\"It's century leap year\")\n",
    "    elif (year%4==0 and year %100 !=0):\n",
    "        print(\"It's leap year but not century leap year\")\n",
    "    else:\n",
    "        print(\"not a leap year mate\")\n",
    "\n",
    "    return None\n",
    "          \n"
   ]
  },
  {
   "cell_type": "code",
   "execution_count": 45,
   "metadata": {},
   "outputs": [
    {
     "name": "stdout",
     "output_type": "stream",
     "text": [
      "It's century leap year\n"
     ]
    }
   ],
   "source": [
    "year = 2000\n",
    "\n",
    "leap_century(year)"
   ]
  },
  {
   "cell_type": "markdown",
   "metadata": {},
   "source": [
    "14. Write a Python script to determine if a number is positive, negative, or zero."
   ]
  },
  {
   "cell_type": "code",
   "execution_count": 46,
   "metadata": {},
   "outputs": [],
   "source": [
    "def pos_neg(n):\n",
    "\n",
    "    if n < 0:\n",
    "        print(\"Number is negative\")\n",
    "    elif n > 0:\n",
    "        print(\"number is positive\")\n",
    "    else:\n",
    "        print(\"Number is 0\")\n",
    "\n",
    "    return None"
   ]
  },
  {
   "cell_type": "code",
   "execution_count": 47,
   "metadata": {},
   "outputs": [
    {
     "name": "stdout",
     "output_type": "stream",
     "text": [
      "Number is negative\n"
     ]
    }
   ],
   "source": [
    "n = -10\n",
    "\n",
    "\n",
    "pos_neg(n)"
   ]
  },
  {
   "cell_type": "markdown",
   "metadata": {},
   "source": [
    "15. Create a program to check if a person is a teenager (between 13 and 19 years old)."
   ]
  },
  {
   "cell_type": "code",
   "execution_count": 50,
   "metadata": {},
   "outputs": [],
   "source": [
    "def teenager(age):\n",
    "\n",
    "    if (age>13) and (age<19):\n",
    "        print(\"the person is a teenager\")\n",
    "\n",
    "    else:\n",
    "        print(\"the person is not a teenager\")\n",
    "\n",
    "    return None"
   ]
  },
  {
   "cell_type": "code",
   "execution_count": 51,
   "metadata": {},
   "outputs": [
    {
     "name": "stdout",
     "output_type": "stream",
     "text": [
      "the person is a teenager\n"
     ]
    }
   ],
   "source": [
    "age = 17\n",
    "\n",
    "teenager(age)"
   ]
  },
  {
   "cell_type": "markdown",
   "metadata": {},
   "source": [
    "16. Develop a program that determines the type of angle based on its measure (acute, obtuse, or right)."
   ]
  },
  {
   "cell_type": "code",
   "execution_count": 52,
   "metadata": {},
   "outputs": [],
   "source": [
    "def angle(a):\n",
    "\n",
    "    if a < 90:\n",
    "        print(\"Angle is acute\")\n",
    "    elif (a>90) and (a<180):\n",
    "        print(\"TriangAngle is obtuse\")\n",
    "    elif (a==90):\n",
    "        print(\"Angle is right angled\")\n",
    "\n",
    "    return None"
   ]
  },
  {
   "cell_type": "code",
   "execution_count": 54,
   "metadata": {},
   "outputs": [
    {
     "name": "stdout",
     "output_type": "stream",
     "text": [
      "Angle is acute\n"
     ]
    }
   ],
   "source": [
    "a = 60\n",
    "\n",
    "angle(a)"
   ]
  },
  {
   "cell_type": "markdown",
   "metadata": {},
   "source": [
    "17. Write a Python program to calculate the roots of a quadratic equation."
   ]
  },
  {
   "cell_type": "code",
   "execution_count": 55,
   "metadata": {},
   "outputs": [],
   "source": [
    "import numpy as np\n",
    "def solver(a,b,c):\n",
    "\n",
    "    # eqn = ax**2 + bx + c\n",
    "    r1,r2 = (-b + np.sqrt(b**2 - 4*a*c)/ 2*a), (-b - np.sqrt(b**2 - 4*a*c)/ 2*a)\n",
    "\n",
    "    return r1,r2\n",
    "\n"
   ]
  },
  {
   "cell_type": "code",
   "execution_count": 57,
   "metadata": {},
   "outputs": [
    {
     "data": {
      "text/plain": [
       "(12.360679774997898, -32.3606797749979)"
      ]
     },
     "execution_count": 57,
     "metadata": {},
     "output_type": "execute_result"
    }
   ],
   "source": [
    "a , b, c = 10, 10, 2\n",
    "\n",
    "solver(a,b,c)"
   ]
  },
  {
   "cell_type": "markdown",
   "metadata": {},
   "source": [
    "18. Implement a program to determine the day of the week based on a user-provided number (1 for Monday, 2\n",
    "for Tuesday, etc.)."
   ]
  },
  {
   "cell_type": "code",
   "execution_count": 58,
   "metadata": {},
   "outputs": [],
   "source": [
    "week_dict = {1:'Monday', 2:'Tuesday', 3:'Wednesday', 4:'Thursday', 5:'Friday', 6:'Saturday', 7:'Sunday'}\n",
    "\n",
    "def weekday(day):\n",
    "\n",
    "    print(week_dict[day])\n",
    "\n",
    "    return None"
   ]
  },
  {
   "cell_type": "code",
   "execution_count": 59,
   "metadata": {},
   "outputs": [
    {
     "name": "stdout",
     "output_type": "stream",
     "text": [
      "Friday\n"
     ]
    }
   ],
   "source": [
    "weekday(5)"
   ]
  },
  {
   "cell_type": "markdown",
   "metadata": {},
   "source": [
    "19. Create a program that determines if a year is a leap year and also if it is evenly divisible by 400."
   ]
  },
  {
   "cell_type": "code",
   "execution_count": 60,
   "metadata": {},
   "outputs": [],
   "source": [
    "def leap400(year):\n",
    "\n",
    "    if year % 4 == 0 and (year % 100 != 0 or year % 400 == 0):\n",
    "        print(f\"{year} is a leap year and evenly divisible by 400.\")\n",
    "    else:\n",
    "        print(f\"{year} is not a leap year or not evenly divisible by 400.\")\n",
    "\n",
    "    return None"
   ]
  },
  {
   "cell_type": "code",
   "execution_count": 61,
   "metadata": {},
   "outputs": [
    {
     "name": "stdout",
     "output_type": "stream",
     "text": [
      "2000 is a leap year and evenly divisible by 400.\n"
     ]
    }
   ],
   "source": [
    "year  = 2000\n",
    "\n",
    "leap400(year)"
   ]
  },
  {
   "cell_type": "markdown",
   "metadata": {},
   "source": [
    "20. Develop a program that checks if a given number is prime or not using nested if-else statements."
   ]
  },
  {
   "cell_type": "code",
   "execution_count": 62,
   "metadata": {},
   "outputs": [
    {
     "name": "stdout",
     "output_type": "stream",
     "text": [
      "28 is not a prime number.\n"
     ]
    }
   ],
   "source": [
    "# Input a number from the user\n",
    "num = int(input(\"Enter a number: \"))\n",
    "\n",
    "# Check if the number is less than 2 (not prime)\n",
    "if num < 2:\n",
    "    is_prime = False\n",
    "else:\n",
    "    # Assume the number is prime\n",
    "    is_prime = True\n",
    "\n",
    "    # Check for divisors from 2 to the square root of the number\n",
    "    for i in range(2, int(num**0.5) + 1):\n",
    "        if num % i == 0:\n",
    "            # If a divisor is found, the number is not prime\n",
    "            is_prime = False\n",
    "            break\n",
    "\n",
    "# Check the result and print if the number is prime or not\n",
    "if is_prime:\n",
    "    print(f\"{num} is a prime number.\")\n",
    "else:\n",
    "    print(f\"{num} is not a prime number.\")\n"
   ]
  },
  {
   "cell_type": "markdown",
   "metadata": {},
   "source": [
    "## Elif Statements"
   ]
  },
  {
   "cell_type": "markdown",
   "metadata": {},
   "source": [
    "21. Write a Python program to assign grades based on different ranges of scores using elif statements."
   ]
  },
  {
   "cell_type": "code",
   "execution_count": 63,
   "metadata": {},
   "outputs": [],
   "source": [
    "def grade(score):\n",
    "\n",
    "    grade = None\n",
    "\n",
    "    if (score < 100) and (score >= 90):\n",
    "        grade = 'A'\n",
    "    elif (score < 90) and (score >= 80):\n",
    "        grade = 'B'\n",
    "    elif (score < 80) and (score >= 70):\n",
    "        grade = 'C'\n",
    "    elif (score < 70) and (score >= 60):\n",
    "        grade = 'D'\n",
    "    elif score < 60:\n",
    "        grade = \"F\"\n",
    "\n",
    "    return grade\n",
    "\n"
   ]
  },
  {
   "cell_type": "code",
   "execution_count": 64,
   "metadata": {},
   "outputs": [
    {
     "data": {
      "text/plain": [
       "'B'"
      ]
     },
     "execution_count": 64,
     "metadata": {},
     "output_type": "execute_result"
    }
   ],
   "source": [
    "score = 81\n",
    "\n",
    "grade(score)"
   ]
  },
  {
   "cell_type": "markdown",
   "metadata": {},
   "source": [
    "22. Implement a program to determine the type of a triangle based on its angles."
   ]
  },
  {
   "cell_type": "code",
   "execution_count": 65,
   "metadata": {},
   "outputs": [],
   "source": [
    "def triangle(a,b,c):\n",
    "\n",
    "    if a == b==c:\n",
    "        print(\"Triangle is Equliateral\")\n",
    "    elif (a==b !=c) or (b==c!=a) or(c==a!=b):\n",
    "        print(\"Triangle is Isosceles\")\n",
    "    else:\n",
    "        print(\"Triangle is Scalene\")\n",
    "\n",
    "    return None"
   ]
  },
  {
   "cell_type": "code",
   "execution_count": 66,
   "metadata": {},
   "outputs": [
    {
     "name": "stdout",
     "output_type": "stream",
     "text": [
      "Triangle is Equliateral\n"
     ]
    }
   ],
   "source": [
    "a,b,c = 60,60,60\n",
    "\n",
    "triangle(a,b,c)"
   ]
  },
  {
   "cell_type": "markdown",
   "metadata": {},
   "source": [
    "23. Develop a program to categorize a given person's BMI into underweight, normal, overweight, or obese using\n",
    "elif statements."
   ]
  },
  {
   "cell_type": "code",
   "execution_count": 69,
   "metadata": {},
   "outputs": [],
   "source": [
    "def bmi_categ(bmi):\n",
    "\n",
    "    # Categorize the BMI using elif statements\n",
    "    if bmi < 18.5:\n",
    "        category = \"Underweight\"\n",
    "    elif 18.5 <= bmi < 24.9:\n",
    "        category = \"Normal Weight\"\n",
    "    elif 24.9 <= bmi < 29.9:\n",
    "        category = \"Overweight\"\n",
    "    else:\n",
    "        category = \"Obese\"\n",
    "\n",
    "    return category"
   ]
  },
  {
   "cell_type": "code",
   "execution_count": 70,
   "metadata": {},
   "outputs": [
    {
     "data": {
      "text/plain": [
       "'Normal Weight'"
      ]
     },
     "execution_count": 70,
     "metadata": {},
     "output_type": "execute_result"
    }
   ],
   "source": [
    "bmi = 22.8\n",
    "\n",
    "category = bmi_categ(bmi)\n",
    "category"
   ]
  },
  {
   "cell_type": "markdown",
   "metadata": {},
   "source": [
    "24. Create a program that determines whether a given number is positive, negative, or zero using elif\n",
    "statements."
   ]
  },
  {
   "cell_type": "code",
   "execution_count": 71,
   "metadata": {},
   "outputs": [],
   "source": [
    "def pos_neg(n):\n",
    "\n",
    "    if n < 0:\n",
    "        print(\"Number is negative\")\n",
    "    elif n > 0:\n",
    "        print(\"number is positive\")\n",
    "    else:\n",
    "        print(\"Number is 0\")\n",
    "\n",
    "    return None"
   ]
  },
  {
   "cell_type": "code",
   "execution_count": 72,
   "metadata": {},
   "outputs": [
    {
     "name": "stdout",
     "output_type": "stream",
     "text": [
      "Number is negative\n"
     ]
    }
   ],
   "source": [
    "n = -8\n",
    "\n",
    "pos_neg(n)"
   ]
  },
  {
   "cell_type": "markdown",
   "metadata": {},
   "source": [
    "25. Write a Python script to determine the type of a character (uppercase, lowercase, or special) using elif\n",
    "statements."
   ]
  },
  {
   "cell_type": "code",
   "execution_count": 73,
   "metadata": {},
   "outputs": [],
   "source": [
    "def chartype(char:str):\n",
    "\n",
    "    if char.isalpha():\n",
    "\n",
    "        if char.islower():\n",
    "            print(\"lowercase character\")\n",
    "        elif char.isupper():\n",
    "            print(\"uppercase character\")\n",
    "    else:\n",
    "        print(\"spacial character\")\n",
    "\n",
    "    return None"
   ]
  },
  {
   "cell_type": "code",
   "execution_count": 75,
   "metadata": {},
   "outputs": [
    {
     "name": "stdout",
     "output_type": "stream",
     "text": [
      "uppercase character\n"
     ]
    }
   ],
   "source": [
    "char = 'A'\n",
    "\n",
    "chartype(char)"
   ]
  },
  {
   "cell_type": "markdown",
   "metadata": {},
   "source": [
    "26. Implement a program to calculate the discounted price based on different purchase amounts using elif\n",
    "statements."
   ]
  },
  {
   "cell_type": "code",
   "execution_count": 76,
   "metadata": {},
   "outputs": [],
   "source": [
    "def discount(price):\n",
    "\n",
    "    if price >= 1000:\n",
    "        discount = 100\n",
    "    elif (price < 1000) & (price >= 500):\n",
    "        discount = 50\n",
    "    elif (price < 500) & (price >= 100):\n",
    "        discount = 10\n",
    "    else:\n",
    "        discount = 0\n",
    "\n",
    "    return discount\n",
    "\n",
    "\n",
    "     "
   ]
  },
  {
   "cell_type": "code",
   "execution_count": 77,
   "metadata": {},
   "outputs": [
    {
     "data": {
      "text/plain": [
       "100"
      ]
     },
     "execution_count": 77,
     "metadata": {},
     "output_type": "execute_result"
    }
   ],
   "source": [
    "price = 3000\n",
    "\n",
    "discount(price)"
   ]
  },
  {
   "cell_type": "markdown",
   "metadata": {},
   "source": [
    "27. Develop a program to calculate the electricity bill based on different consumption slabs using elif\n",
    "statements."
   ]
  },
  {
   "cell_type": "code",
   "execution_count": 78,
   "metadata": {},
   "outputs": [],
   "source": [
    "def bill(units):\n",
    "\n",
    "    if units >= 500:\n",
    "        bill = 5 * units\n",
    "    elif (units < 500) & (units >= 100):\n",
    "        bill = 7 * units\n",
    "    elif (units < 100):\n",
    "        bill = 10 * units\n",
    "\n",
    "    return bill     "
   ]
  },
  {
   "cell_type": "code",
   "execution_count": 82,
   "metadata": {},
   "outputs": [
    {
     "data": {
      "text/plain": [
       "100"
      ]
     },
     "execution_count": 82,
     "metadata": {},
     "output_type": "execute_result"
    }
   ],
   "source": [
    "units = 10\n",
    "\n",
    "bill(units)"
   ]
  },
  {
   "cell_type": "markdown",
   "metadata": {},
   "source": [
    "28. Create a program to determine the type of quadrilateral based on its angles and sides using elif\n",
    "statements."
   ]
  },
  {
   "cell_type": "code",
   "execution_count": 84,
   "metadata": {},
   "outputs": [],
   "source": [
    "\n",
    "def quad_type(angle1, angle2,angle3,angle4,side1,side2,side3,side4):\n",
    "\n",
    "    # Check the type of quadrilateral using elif statements\n",
    "    if angle1 == angle2 == angle3 == angle4 == 90:\n",
    "        quadrilateral_type = \"Rectangle\"\n",
    "    elif angle1 == angle2 == angle3 == angle4 != 90:\n",
    "        quadrilateral_type = \"Rhombus\"\n",
    "    elif angle1 == angle2 == angle3 == angle4 == 90 and side1 == side2 == side3 == side4:\n",
    "        quadrilateral_type = \"Square\"\n",
    "    elif side1 == side2 == side3 == side4:\n",
    "        quadrilateral_type = \"Parallelogram\"\n",
    "    elif angle1 == angle2 == angle3 == angle4:\n",
    "        quadrilateral_type = \"Kite\"\n",
    "    else:\n",
    "        quadrilateral_type = \"Other\"\n",
    "\n",
    "    return quadrilateral_type\n",
    "\n",
    "\n"
   ]
  },
  {
   "cell_type": "code",
   "execution_count": 85,
   "metadata": {},
   "outputs": [
    {
     "data": {
      "text/plain": [
       "'Rectangle'"
      ]
     },
     "execution_count": 85,
     "metadata": {},
     "output_type": "execute_result"
    }
   ],
   "source": [
    "angle1, angle2,angle3,angle4,side1,side2,side3,side4 = 90,90,90,90,10,20,10,20\n",
    "\n",
    "\n",
    "quad_type(angle1, angle2,angle3,angle4,side1,side2,side3,side4)"
   ]
  },
  {
   "cell_type": "markdown",
   "metadata": {},
   "source": [
    "29. Write a Python script to determine the season based on a user-provided month using elif statements."
   ]
  },
  {
   "cell_type": "code",
   "execution_count": null,
   "metadata": {},
   "outputs": [],
   "source": [
    "# Input a month from the user\n",
    "month = input(\"Enter a month: \")\n",
    "\n",
    "# Convert the input to lowercase for case-insensitive comparison\n",
    "month = month.lower()\n",
    "\n",
    "# Check the season using elif statements\n",
    "if month in [\"december\", \"january\", \"february\"]:\n",
    "    season = \"Winter\"\n",
    "elif month in [\"march\", \"april\", \"may\"]:\n",
    "    season = \"Spring\"\n",
    "elif month in [\"june\", \"july\", \"august\"]:\n",
    "    season = \"Summer\"\n",
    "elif month in [\"september\", \"october\", \"november\"]:\n",
    "    season = \"Fall\"\n",
    "else:\n",
    "    season = \"Unknown\"\n",
    "\n",
    "# Print the season\n",
    "if season != \"Unknown\":\n",
    "    print(f\"The season for {month.capitalize()} is {season}.\")\n",
    "else:\n",
    "    print(\"Invalid input. Please enter a valid month.\")\n"
   ]
  },
  {
   "cell_type": "code",
   "execution_count": 86,
   "metadata": {},
   "outputs": [],
   "source": [
    "def season(month_num):\n",
    "\n",
    "    if month_num in [1,2,12]:\n",
    "        season = 'Winter'\n",
    "    elif month_num in [3,4,5,6]:\n",
    "        season = 'Season'\n",
    "    elif month_num in [7,8,9]:\n",
    "        season = 'Monsoon'\n",
    "    elif month_num in [10,11]:\n",
    "        season = 'Autumn'\n",
    "    else:\n",
    "        season = 'Unknown'\n",
    "\n",
    "    return season\n"
   ]
  },
  {
   "cell_type": "code",
   "execution_count": 87,
   "metadata": {},
   "outputs": [
    {
     "data": {
      "text/plain": [
       "'Autumn'"
      ]
     },
     "execution_count": 87,
     "metadata": {},
     "output_type": "execute_result"
    }
   ],
   "source": [
    "month_num = 11\n",
    "\n",
    "season(month_num)"
   ]
  },
  {
   "cell_type": "markdown",
   "metadata": {},
   "source": [
    "30. Implement a program to determine the type of a year (leap or common) and month (30 or 31 days) using\n",
    "elif statements."
   ]
  },
  {
   "cell_type": "code",
   "execution_count": 88,
   "metadata": {},
   "outputs": [],
   "source": [
    "def leapmonth(year, month):\n",
    "\n",
    "\n",
    "    # Check if it's a leap year using elif statements\n",
    "    if (year % 4 == 0 and year % 100 != 0) or (year % 400 == 0):\n",
    "        year_type = \"Leap Year\"\n",
    "    else:\n",
    "        year_type = \"Common Year\"\n",
    "\n",
    "    # Check the number of days in the month using elif statements\n",
    "    if month.lower() in [\"january\", \"march\", \"may\", \"july\", \"august\", \"october\", \"december\"]:\n",
    "        days_in_month = \"31 Days\"\n",
    "    elif month.lower() in [\"april\", \"june\", \"september\", \"november\"]:\n",
    "        days_in_month = \"30 Days\"\n",
    "    elif month.lower() == \"february\":\n",
    "        if year_type == \"Leap Year\":\n",
    "            days_in_month = \"29 Days\"\n",
    "        else:\n",
    "            days_in_month = \"28 Days\"\n",
    "    else:\n",
    "        days_in_month = \"Unknown\"\n",
    "\n",
    "    return days_in_month\n",
    "\n",
    "\n",
    "\n"
   ]
  },
  {
   "cell_type": "code",
   "execution_count": null,
   "metadata": {},
   "outputs": [],
   "source": []
  }
 ],
 "metadata": {
  "kernelspec": {
   "display_name": "tf-gpu",
   "language": "python",
   "name": "python3"
  },
  "language_info": {
   "codemirror_mode": {
    "name": "ipython",
    "version": 3
   },
   "file_extension": ".py",
   "mimetype": "text/x-python",
   "name": "python",
   "nbconvert_exporter": "python",
   "pygments_lexer": "ipython3",
   "version": "3.9.16"
  }
 },
 "nbformat": 4,
 "nbformat_minor": 2
}
