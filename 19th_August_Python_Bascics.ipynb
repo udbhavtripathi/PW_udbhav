{
 "cells": [
  {
   "cell_type": "markdown",
   "metadata": {},
   "source": [
    "                                        Assignment: 19th Aug 2023 , Python Basics"
   ]
  },
  {
   "cell_type": "markdown",
   "metadata": {},
   "source": [
    "## TOPIC: Python Basics Variable"
   ]
  },
  {
   "cell_type": "markdown",
   "metadata": {},
   "source": [
    "1. Declare two variables, `x` and `y`, and assign them integer values.\n",
    "Swap the values of these variables without using any temporary\n",
    "variable."
   ]
  },
  {
   "cell_type": "code",
   "execution_count": 7,
   "metadata": {},
   "outputs": [
    {
     "name": "stdout",
     "output_type": "stream",
     "text": [
      "x = 2\n",
      "y = 7\n"
     ]
    }
   ],
   "source": [
    "# define two variables\n",
    "x = 2\n",
    "y = 7\n",
    "\n",
    "print(\"x =\",x)\n",
    "print(\"y =\",y)"
   ]
  },
  {
   "cell_type": "code",
   "execution_count": 8,
   "metadata": {},
   "outputs": [
    {
     "name": "stdout",
     "output_type": "stream",
     "text": [
      "7\n",
      "2\n"
     ]
    }
   ],
   "source": [
    "# swap the values and print the output\n",
    "\n",
    "\n",
    "x = x + y # x = 9, y = 7\n",
    "y = x - y # x = 9, y = 2\n",
    "x = x - y # x = 7, y = 2\n",
    "\n",
    "print(x) \n",
    "print(y) "
   ]
  },
  {
   "cell_type": "markdown",
   "metadata": {},
   "source": [
    "2. Create a program that calculates the area of a rectangle. Take the\n",
    "length and width as inputs from the user and store them in variables.\n",
    "Calculate and display the area."
   ]
  },
  {
   "cell_type": "code",
   "execution_count": 15,
   "metadata": {},
   "outputs": [],
   "source": [
    "#function to compute area\n",
    "def area_rec(l,w):\n",
    "\n",
    "    #compute area\n",
    "    area = l*w    \n",
    "\n",
    "    return area"
   ]
  },
  {
   "cell_type": "code",
   "execution_count": 18,
   "metadata": {},
   "outputs": [
    {
     "name": "stdout",
     "output_type": "stream",
     "text": [
      "Area of the rectange is: 200\n"
     ]
    }
   ],
   "source": [
    "# take input from the user\n",
    "\n",
    "l = int(input(\"Enter the value of length:\"))\n",
    "w = int(input(\"Enter the value of width:\"))\n",
    "\n",
    "\n",
    "# call the area function\n",
    "\n",
    "area = area_rec(l,w)\n",
    "\n",
    "print(\"Area of the rectange is:\", area)"
   ]
  },
  {
   "cell_type": "markdown",
   "metadata": {},
   "source": [
    "3. Write a Python program that converts temperature from Celsius to\n",
    "Fahrenheit. Take the temperature in Celsius as input, store it in a\n",
    "variable, convert it to Fahrenheit, and display the result."
   ]
  },
  {
   "cell_type": "code",
   "execution_count": 22,
   "metadata": {},
   "outputs": [],
   "source": [
    "#function to convert the temperature unit\n",
    "def convert_temp(temp_c):\n",
    "\n",
    "    #cconvert the temparature unit\n",
    "    temp_f =  (9/5)*temp_c + 32   \n",
    "\n",
    "    return temp_f"
   ]
  },
  {
   "cell_type": "code",
   "execution_count": 24,
   "metadata": {},
   "outputs": [
    {
     "name": "stdout",
     "output_type": "stream",
     "text": [
      "Temperature in Fahrenheit is: 212.0\n"
     ]
    }
   ],
   "source": [
    "# take input from the user\n",
    "\n",
    "temp_c = int(input(\"Enter the temperature in celcius:\"))\n",
    "\n",
    "\n",
    "# call the conversion function\n",
    "\n",
    "temp_f = convert_temp(temp_c)\n",
    "\n",
    "print(\"Temperature in Fahrenheit is:\", temp_f)"
   ]
  },
  {
   "cell_type": "markdown",
   "metadata": {},
   "source": [
    "## TOPIC: String Based Questions"
   ]
  },
  {
   "cell_type": "markdown",
   "metadata": {},
   "source": [
    "1. Write a Python program that takes a string as input and prints the\n",
    "length of the string."
   ]
  },
  {
   "cell_type": "code",
   "execution_count": 27,
   "metadata": {},
   "outputs": [
    {
     "name": "stdout",
     "output_type": "stream",
     "text": [
      "Length of string is 6\n"
     ]
    }
   ],
   "source": [
    "# take user input\n",
    "\n",
    "string_inp = input(\"\")\n",
    "\n",
    "print(\"Length of string is\", len(string_inp))"
   ]
  },
  {
   "cell_type": "markdown",
   "metadata": {},
   "source": [
    "2. Create a program that takes a sentence from the user and counts the\n",
    "number of vowels (a, e, i, o, u) in the string."
   ]
  },
  {
   "cell_type": "code",
   "execution_count": 30,
   "metadata": {},
   "outputs": [
    {
     "name": "stdout",
     "output_type": "stream",
     "text": [
      "Number of vowels:  3\n"
     ]
    }
   ],
   "source": [
    "# take user input\n",
    "\n",
    "vowels_check = input(\"\")\n",
    "\n",
    "# count number of vowels\n",
    "count = len([char for char in vowels_check if char in \"aeiouAEIOU\"])\n",
    "\n",
    "print(\"Number of vowels: \", count)"
   ]
  },
  {
   "cell_type": "markdown",
   "metadata": {},
   "source": [
    "3. Given a string, reverse the order of characters using string slicing and\n",
    "print the reversed string."
   ]
  },
  {
   "cell_type": "code",
   "execution_count": 33,
   "metadata": {},
   "outputs": [
    {
     "name": "stdout",
     "output_type": "stream",
     "text": [
      "This is reversed string:  gnirts modnar si siht\n"
     ]
    }
   ],
   "source": [
    "# let's define string\n",
    "\n",
    "example = \"this is random string\"\n",
    "\n",
    "#reverse the string\n",
    "reverse_str = example[-1::-1]\n",
    "\n",
    "#print the output\n",
    "print(\"This is reversed string: \", reverse_str)"
   ]
  },
  {
   "cell_type": "markdown",
   "metadata": {},
   "source": [
    "4. Write a program that takes a string as input and checks if it is a\n",
    "palindrome (reads the same forwards and backwards)."
   ]
  },
  {
   "cell_type": "code",
   "execution_count": 38,
   "metadata": {},
   "outputs": [],
   "source": [
    "def ispalindrome(s):\n",
    "\n",
    "    if s == s[-1::-1]:\n",
    "        out = \"Yes this string is palindrome \"\n",
    "\n",
    "    else:\n",
    "        out =  \"No, this string is not palindrome\"\n",
    "\n",
    "    return out"
   ]
  },
  {
   "cell_type": "code",
   "execution_count": 40,
   "metadata": {},
   "outputs": [
    {
     "name": "stdout",
     "output_type": "stream",
     "text": [
      "Yes this string is palindrome \n"
     ]
    }
   ],
   "source": [
    "# take user input\n",
    "palin_str = input(\"\")\n",
    "\n",
    "# call function to check\n",
    "check = ispalindrome(palin_str)\n",
    "\n",
    "print(check)"
   ]
  },
  {
   "cell_type": "markdown",
   "metadata": {},
   "source": [
    "5. Create a program that takes a string as input and removes all the\n",
    "spaces from it. Print the modified string without spaces."
   ]
  },
  {
   "cell_type": "code",
   "execution_count": 42,
   "metadata": {},
   "outputs": [
    {
     "name": "stdout",
     "output_type": "stream",
     "text": [
      "String without spaces: pwskillslab\n"
     ]
    }
   ],
   "source": [
    "# define a function to remove spaces if present\n",
    "def remove(string):\n",
    "\treturn string.replace(\" \", \"\")\n",
    "\n",
    "\n",
    "#take user input\n",
    "remove_space = input()\n",
    "\n",
    "# call the function\n",
    "nospacestr = remove(remove_space)\n",
    "\n",
    "print(\"String without spaces:\", nospacestr)"
   ]
  },
  {
   "cell_type": "code",
   "execution_count": null,
   "metadata": {},
   "outputs": [],
   "source": []
  }
 ],
 "metadata": {
  "kernelspec": {
   "display_name": "tf-gpu",
   "language": "python",
   "name": "python3"
  },
  "language_info": {
   "codemirror_mode": {
    "name": "ipython",
    "version": 3
   },
   "file_extension": ".py",
   "mimetype": "text/x-python",
   "name": "python",
   "nbconvert_exporter": "python",
   "pygments_lexer": "ipython3",
   "version": "3.9.16"
  },
  "orig_nbformat": 4
 },
 "nbformat": 4,
 "nbformat_minor": 2
}
